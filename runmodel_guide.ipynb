{
 "cells": [
  {
   "cell_type": "markdown",
   "metadata": {},
   "source": [
    "# **IMPORT THE MODEL**"
   ]
  },
  {
   "cell_type": "markdown",
   "metadata": {},
   "source": [
    "## Kalau Pake Google Colab"
   ]
  },
  {
   "cell_type": "code",
   "execution_count": null,
   "metadata": {},
   "outputs": [],
   "source": [
    "from google.colab import drive\n",
    "drive.mount('/content/drive')"
   ]
  },
  {
   "cell_type": "markdown",
   "metadata": {},
   "source": [
    "## Download Labelled Dataset from Roboflow"
   ]
  },
  {
   "cell_type": "markdown",
   "metadata": {},
   "source": []
  },
  {
   "cell_type": "markdown",
   "metadata": {},
   "source": [
    "## 0. Installing the Dependencies"
   ]
  },
  {
   "cell_type": "code",
   "execution_count": 7,
   "metadata": {},
   "outputs": [],
   "source": [
    "#!pip install ultralytics opencv-python pillow"
   ]
  },
  {
   "cell_type": "code",
   "execution_count": 1,
   "metadata": {},
   "outputs": [],
   "source": [
    "# !pip3 install torch torchvision torchaudio --index-url https://download.pytorch.org/whl/cu121"
   ]
  },
  {
   "cell_type": "markdown",
   "metadata": {},
   "source": [
    "## Optional : Check Whether CUDA is Available or Not (or else will using the CPU as computation source)"
   ]
  },
  {
   "cell_type": "code",
   "execution_count": 5,
   "metadata": {},
   "outputs": [
    {
     "name": "stdout",
     "output_type": "stream",
     "text": [
      "Fri Jul  5 20:52:37 2024       \n",
      "+-----------------------------------------------------------------------------------------+\n",
      "| NVIDIA-SMI 551.78                 Driver Version: 551.78         CUDA Version: 12.4     |\n",
      "|-----------------------------------------+------------------------+----------------------+\n",
      "| GPU  Name                     TCC/WDDM  | Bus-Id          Disp.A | Volatile Uncorr. ECC |\n",
      "| Fan  Temp   Perf          Pwr:Usage/Cap |           Memory-Usage | GPU-Util  Compute M. |\n",
      "|                                         |                        |               MIG M. |\n",
      "|=========================================+========================+======================|\n",
      "|   0  NVIDIA GeForce RTX 3060 ...  WDDM  |   00000000:01:00.0  On |                  N/A |\n",
      "| N/A   53C    P3             23W /   55W |    1752MiB /   6144MiB |      1%      Default |\n",
      "|                                         |                        |                  N/A |\n",
      "+-----------------------------------------+------------------------+----------------------+\n",
      "                                                                                         \n",
      "+-----------------------------------------------------------------------------------------+\n",
      "| Processes:                                                                              |\n",
      "|  GPU   GI   CI        PID   Type   Process name                              GPU Memory |\n",
      "|        ID   ID                                                               Usage      |\n",
      "|=========================================================================================|\n",
      "|    0   N/A  N/A      2628    C+G   ...ekyb3d8bbwe\\PhoneExperienceHost.exe      N/A      |\n",
      "|    0   N/A  N/A      7800    C+G   ...x64__qmba6cd70vzyy\\ArmouryCrate.exe      N/A      |\n",
      "|    0   N/A  N/A      8408    C+G   ...oogle\\Chrome\\Application\\chrome.exe      N/A      |\n",
      "|    0   N/A  N/A     10652    C+G   ...\\OpenVPN Connect\\OpenVPNConnect.exe      N/A      |\n",
      "|    0   N/A  N/A     11556    C+G   ...Google\\NearbyShare\\nearby_share.exe      N/A      |\n",
      "|    0   N/A  N/A     11956    C+G   ...on\\126.0.2592.87\\msedgewebview2.exe      N/A      |\n",
      "|    0   N/A  N/A     13664    C+G   ...les\\Microsoft OneDrive\\OneDrive.exe      N/A      |\n",
      "|    0   N/A  N/A     15632    C+G   ...2txyewy\\StartMenuExperienceHost.exe      N/A      |\n",
      "|    0   N/A  N/A     16212    C+G   ...on\\126.0.2592.87\\msedgewebview2.exe      N/A      |\n",
      "|    0   N/A  N/A     17856    C+G   ...al\\Discord\\app-1.0.9152\\Discord.exe      N/A      |\n",
      "|    0   N/A  N/A     19012    C+G   ...nt.CBS_cw5n1h2txyewy\\SearchHost.exe      N/A      |\n",
      "|    0   N/A  N/A     20672    C+G   ...inaries\\Win64\\EpicGamesLauncher.exe      N/A      |\n",
      "|    0   N/A  N/A     22256    C+G   ...\\cef\\cef.win7x64\\steamwebhelper.exe      N/A      |\n",
      "|    0   N/A  N/A     24960    C+G   ...CBS_cw5n1h2txyewy\\TextInputHost.exe      N/A      |\n",
      "|    0   N/A  N/A     25072    C+G   ...siveControlPanel\\SystemSettings.exe      N/A      |\n",
      "|    0   N/A  N/A     25296    C+G   ...ne\\Binaries\\Win64\\EpicWebHelper.exe      N/A      |\n",
      "|    0   N/A  N/A     25380    C+G   ...6.0_x64__cv1g1gvanyjgm\\WhatsApp.exe      N/A      |\n",
      "|    0   N/A  N/A     27096    C+G   ...crosoft\\Edge\\Application\\msedge.exe      N/A      |\n",
      "|    0   N/A  N/A     28540    C+G   ...\\cef\\cef.win7x64\\steamwebhelper.exe      N/A      |\n",
      "|    0   N/A  N/A     28920    C+G   ...US\\ArmouryDevice\\asus_framework.exe      N/A      |\n",
      "|    0   N/A  N/A     33136    C+G   ...m\\radeonsoftware\\RadeonSoftware.exe      N/A      |\n",
      "|    0   N/A  N/A     37960    C+G   ...Programs\\Microsoft VS Code\\Code.exe      N/A      |\n",
      "|    0   N/A  N/A     38116    C+G   ...S\\AppData\\Roaming\\Zoom\\bin\\Zoom.exe      N/A      |\n",
      "|    0   N/A  N/A     38692    C+G   ...5n1h2txyewy\\ShellExperienceHost.exe      N/A      |\n",
      "|    0   N/A  N/A     39764    C+G   ...on\\126.0.2592.87\\msedgewebview2.exe      N/A      |\n",
      "|    0   N/A  N/A     40064    C+G   C:\\Windows\\explorer.exe                     N/A      |\n",
      "|    0   N/A  N/A     42568    C+G   ...AppData\\Roaming\\Spotify\\Spotify.exe      N/A      |\n",
      "|    0   N/A  N/A     45080    C+G   ...GeForce Experience\\NVIDIA Share.exe      N/A      |\n",
      "|    0   N/A  N/A     48120    C+G   ...nr4m\\radeonsoftware\\AMDRSSrcExt.exe      N/A      |\n",
      "|    0   N/A  N/A     48776    C+G   ...les\\Microsoft OneDrive\\OneDrive.exe      N/A      |\n",
      "+-----------------------------------------------------------------------------------------+\n"
     ]
    }
   ],
   "source": [
    "!nvidia-smi"
   ]
  },
  {
   "cell_type": "code",
   "execution_count": 4,
   "metadata": {},
   "outputs": [
    {
     "name": "stdout",
     "output_type": "stream",
     "text": [
      "Using device: cuda\n"
     ]
    }
   ],
   "source": [
    "import torch\n",
    "\n",
    "# Check if CUDA is available and set the device\n",
    "device = 'cuda' if torch.cuda.is_available() else 'cpu'\n",
    "print(f\"Using device: {device}\")"
   ]
  },
  {
   "cell_type": "markdown",
   "metadata": {},
   "source": [
    "## 1. Data Preprocessing"
   ]
  },
  {
   "cell_type": "markdown",
   "metadata": {},
   "source": [
    "### Convert TIF images to PNG or JPG"
   ]
  },
  {
   "cell_type": "code",
   "execution_count": null,
   "metadata": {},
   "outputs": [],
   "source": [
    "from PIL import Image\n",
    "import os\n",
    "\n",
    "def convert_tiff_to_jpg(tiff_path, output_path):\n",
    "    with Image.open(tiff_path) as img:\n",
    "        img.convert('RGB').save(output_path, format='JPEG')  # Bisa diganti ke PNG di format = 'PNG'\n",
    "\n",
    "def batch_convert_tiff_to_jpg(input_folder_path, output_folder_path):\n",
    "    if not os.path.exists(output_folder_path):\n",
    "        os.makedirs(output_folder_path)\n",
    "    \n",
    "    for filename in os.listdir(input_folder_path):\n",
    "        if filename.endswith('.tif') or filename.endswith('.tiff'):\n",
    "            tiff_path = os.path.join(input_folder_path, filename)\n",
    "            output_filename = filename.replace('.tif', '.jpg').replace('.tiff', '.jpg')  # Bisa diganti ke PNG (ubah '.jpg' -> '.png')\n",
    "            output_path = os.path.join(output_folder_path, output_filename)\n",
    "            convert_tiff_to_jpg(tiff_path, output_path)\n",
    "\n",
    "# Example usage:\n",
    "input_folder_path = r'D:\\perjuanganHH\\Kuliah\\code\\Road-Damage-Detection\\640x640\\kerusakan' #Directory Folder TIF\n",
    "output_folder_path = r'D:\\perjuanganHH\\Kuliah\\code\\Road-Damage-Detection\\640x640\\converted_images' #Directory Folder Output\n",
    "batch_convert_tiff_to_jpg(input_folder_path, output_folder_path)"
   ]
  },
  {
   "cell_type": "markdown",
   "metadata": {},
   "source": [
    "## 2. Model Training"
   ]
  },
  {
   "cell_type": "code",
   "execution_count": null,
   "metadata": {},
   "outputs": [],
   "source": [
    "dataset_location = \"D:\\perjuanganHH\\Kuliah\\code\\Road-Damage-Detection\\Pothole and Crack Detection.v4i.yolov8\\data.yaml\" # Ganti Directory Sesuai Dengan Directory Asli Dataset"
   ]
  },
  {
   "cell_type": "code",
   "execution_count": null,
   "metadata": {},
   "outputs": [],
   "source": [
    "from ultralytics import YOLO\n",
    "import os\n",
    "\n",
    "# Load a model\n",
    "model = YOLO('yolov8s-seg.yaml')  # build a new model from YAML\n",
    "model = YOLO('yolov8s-seg.pt')  # load a pretrained model (recommended for training)\n",
    "model = YOLO('yolov8s-seg.yaml').load('yolov8s-seg.pt')  # build from YAML and transfer weights\n",
    "\n",
    "# Train the model\n",
    "results = model.train(data=dataset_location, epochs=110, imgsz=640, device = device)"
   ]
  },
  {
   "cell_type": "markdown",
   "metadata": {},
   "source": [
    "## 3. Model Validation"
   ]
  },
  {
   "cell_type": "code",
   "execution_count": null,
   "metadata": {},
   "outputs": [],
   "source": [
    "# Load a model\n",
    "model = YOLO('D:\\perjuanganHH\\Kuliah\\code\\\\runs\\segment\\\\train25\\weights\\\\best.pt')  # Ganti dengan Directory Model Hasil Training (Biasanya bakalan ditunjukin dimana nyimpennya pas selesai training)\n",
    "\n",
    "# Validate the model\n",
    "metrics = model.val(data = dataset_location)  # no arguments needed, dataset and settings remembered\n",
    "metrics.box.map    # map50-95\n",
    "metrics.box.map50  # map50\n",
    "metrics.box.map75  # map75\n",
    "metrics.box.maps   # a list contains map50-95 of each category"
   ]
  },
  {
   "cell_type": "markdown",
   "metadata": {},
   "source": [
    "## 4. Testing to Real Images"
   ]
  },
  {
   "cell_type": "code",
   "execution_count": null,
   "metadata": {},
   "outputs": [],
   "source": [
    "import cv2\n",
    "import os\n",
    "from ultralytics import YOLO\n",
    "\n",
    "# Load the model\n",
    "model = YOLO(r'D:\\perjuanganHH\\Kuliah\\code\\runs\\segment\\train25\\weights\\best.pt')  # Ganti dengan Directory Model Hasil Training (Biasanya bakalan ditunjukin dimana nyimpennya pas selesai training)\n",
    "\n",
    "# Run batched inference on a list of images\n",
    "results = model(r\"D:\\perjuanganHH\\Kuliah\\code\\Road-Damage-Detection\\640x640\\640x640\\PNG\\*.png\")  # Ganti dengan Directory Folder Gambar yang Ingin Dideteksi, format bisa jpg/png (tinggal diubah di \"*.png atau *.jpg\")\n",
    "\n",
    "# Specify the directory to save the results\n",
    "save_dir = r\"D:\\perjuanganHH\\Kuliah\\code\\Road-Damage-Detection\\Model After Train\\Yolov8-Result-New-2\" #Ganti dengan Directory Folder Hasil Deteksi\n",
    "os.makedirs(save_dir, exist_ok=True)\n",
    "\n",
    "# Process results generator\n",
    "for idx, result in enumerate(results):\n",
    "    boxes = result.boxes  # Boxes object for bounding box outputs\n",
    "    masks = result.masks  # Masks object for segmentation masks outputs\n",
    "    keypoints = result.keypoints  # Keypoints object for pose outputs\n",
    "    probs = result.probs  # Probs object for classification outputs\n",
    "\n",
    "    # Get the original image\n",
    "    img = result.orig_img\n",
    "\n",
    "    # Draw bounding boxes and masks on the image\n",
    "    annotated_img = result.plot()  # This method is available in YOLOv5\n",
    "\n",
    "    # Save the result image\n",
    "    save_path = os.path.join(save_dir, f'result_{idx}.jpg')\n",
    "    cv2.imwrite(save_path, annotated_img)\n",
    "\n",
    "print(f\"Images saved in directory: {os.path.abspath(save_dir)}\")"
   ]
  },
  {
   "cell_type": "markdown",
   "metadata": {},
   "source": [
    "## 5. Convert the Result Back to TIF"
   ]
  },
  {
   "cell_type": "code",
   "execution_count": null,
   "metadata": {},
   "outputs": [],
   "source": [
    "import os\n",
    "from PIL import Image\n",
    "from osgeo import gdal, osr\n",
    "import numpy as np\n",
    "import glob\n",
    "\n",
    "def convert_png_to_tiff(png_path, output_tiff_path, geotiff_template):\n",
    "    # Open the PNG image\n",
    "    img = Image.open(png_path)\n",
    "\n",
    "    # Get image size (width, height)\n",
    "    width, height = img.size\n",
    "\n",
    "    # Convert PIL image to numpy array\n",
    "    img_array = np.array(img)\n",
    "\n",
    "    # Get the geotransform and projection from the template GeoTIFF\n",
    "    dataset = gdal.Open(geotiff_template, gdal.GA_ReadOnly)\n",
    "    if dataset is None:\n",
    "        raise ValueError(f\"Failed to open template GeoTIFF file: {geotiff_template}\")\n",
    "\n",
    "    geotransform = dataset.GetGeoTransform()\n",
    "    projection = dataset.GetProjection()\n",
    "    srs = osr.SpatialReference(wkt=projection)\n",
    "\n",
    "    # Create a new GeoTIFF dataset\n",
    "    driver = gdal.GetDriverByName('GTiff')\n",
    "    new_dataset = driver.Create(output_tiff_path, width, height, 3, gdal.GDT_Byte)\n",
    "    new_dataset.SetGeoTransform(geotransform)\n",
    "    new_dataset.SetProjection(srs.ExportToWkt())\n",
    "\n",
    "    # Write the image data to the new GeoTIFF dataset\n",
    "    for i in range(3):  # For RGB bands\n",
    "        band = new_dataset.GetRasterBand(i + 1)  # Bands are 1-indexed\n",
    "        band.WriteArray(img_array[:,:,i])  # Write each channel separately\n",
    "\n",
    "    # Close datasets\n",
    "    dataset = None\n",
    "    new_dataset = None\n",
    "\n",
    "def batch_convert_png_to_tiff(png_paths, geotiff_templates, output_dir):\n",
    "    # Print sorted PNG file paths\n",
    "    print(\"Sorted PNG file paths:\")\n",
    "    for png_path in png_paths:\n",
    "        print(png_path)\n",
    "\n",
    "    # Print sorted GeoTIFF template paths\n",
    "    print(\"\\nSorted GeoTIFF template paths:\")\n",
    "    for geotiff_template in geotiff_templates:\n",
    "        print(geotiff_template)\n",
    "\n",
    "    # Perform batch conversion\n",
    "    for png_path, geotiff_template in zip(png_paths, geotiff_templates):\n",
    "        base_name = os.path.basename(geotiff_template)\n",
    "        output_tiff_path = os.path.join(output_dir, base_name)\n",
    "        convert_png_to_tiff(png_path, output_tiff_path, geotiff_template)\n",
    "        print(f\"Converted: {png_path} -> {output_tiff_path}\")\n",
    "\n",
    "# Example usage:\n",
    "png_paths = sorted(glob.glob('/content/drive/MyDrive/Road Damage Detection/Result-Yolov8-JPG/result_*.jpg'), key=lambda x: int(os.path.splitext(os.path.basename(x))[0].split('_')[-1])) #Diganti dengan Directory Folder Hasil Deteksi\n",
    "geotiff_templates = sorted(glob.glob('/content/drive/MyDrive/Road Damage Detection/Dataset TIF/Data_*.tif')) # Diganti dengan Directory Folder TIF Asli\n",
    "\n",
    "output_dir = '/content/drive/MyDrive/Road Damage Detection/Result-Yolov8-TIF'\n",
    "\n",
    "if len(png_paths) != len(geotiff_templates):\n",
    "    raise ValueError(\"The number of PNG files does not match the number of GeoTIFF templates.\")\n",
    "\n",
    "os.makedirs(output_dir, exist_ok=True)  # Create the output directory if it does not exist\n",
    "\n",
    "batch_convert_png_to_tiff(png_paths, geotiff_templates, output_dir)"
   ]
  }
 ],
 "metadata": {
  "kernelspec": {
   "display_name": "Python 3",
   "language": "python",
   "name": "python3"
  },
  "language_info": {
   "codemirror_mode": {
    "name": "ipython",
    "version": 3
   },
   "file_extension": ".py",
   "mimetype": "text/x-python",
   "name": "python",
   "nbconvert_exporter": "python",
   "pygments_lexer": "ipython3",
   "version": "3.11.8"
  }
 },
 "nbformat": 4,
 "nbformat_minor": 2
}
